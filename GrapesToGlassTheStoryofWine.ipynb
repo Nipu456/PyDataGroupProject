{
 "cells": [
  {
   "cell_type": "markdown",
   "id": "e985621c-6872-498b-ad7c-37411e5a8ae2",
   "metadata": {},
   "source": [
    "## Import required libraries"
   ]
  },
  {
   "cell_type": "code",
   "execution_count": 1,
   "id": "5295a52a-3d28-488f-b468-85dd00430243",
   "metadata": {},
   "outputs": [],
   "source": [
    "import pandas as pd\n",
    "import numpy as np"
   ]
  },
  {
   "cell_type": "markdown",
   "id": "1d021d26-6974-44bb-899d-cbd7dc9042ca",
   "metadata": {},
   "source": [
    "## Simulating file paths and Load all CSV files into a DataFrame list"
   ]
  },
  {
   "cell_type": "code",
   "execution_count": 2,
   "id": "070665d0-70cf-4628-9200-4395c5cbaa62",
   "metadata": {},
   "outputs": [],
   "source": [
    "\n",
    "files = [\n",
    "    \"Australia_Wine_Stats.csv\", \"Chile_Wine_Stats.csv\", \"France_Wine_Stats.csv\",\n",
    "    \"Italy_Wine_Stats.csv\", \"New Zealand_Wine_Stats.csv\", \"Portugal_Wine_Stats.csv\",\n",
    "    \"Spain_Wine_Stats.csv\", \"USA_Wine_Stats.csv\"\n",
    "]\n",
    "\n",
    "# Load all CSV files into a DataFrame\n",
    "dataframes = [pd.read_csv(file) for file in files]   \n",
    "\n",
    "#  Concatenate all data into a single DataFrame\n",
    "wine_df = pd.concat(dataframes, ignore_index=True)\n"
   ]
  },
  {
   "cell_type": "markdown",
   "id": "2e70b29e-a429-4ddd-a897-9f2201a8e6a8",
   "metadata": {},
   "source": [
    "## Examine structure and data types"
   ]
  },
  {
   "cell_type": "code",
   "execution_count": 3,
   "id": "0c2e484c-9ba0-4bbc-ba68-611f161e2577",
   "metadata": {},
   "outputs": [
    {
     "name": "stdout",
     "output_type": "stream",
     "text": [
      "<class 'pandas.core.frame.DataFrame'>\n",
      "RangeIndex: 5145 entries, 0 to 5144\n",
      "Data columns (total 15 columns):\n",
      " #   Column             Non-Null Count  Dtype  \n",
      "---  ------             --------------  -----  \n",
      " 0   Unnamed: 0         5145 non-null   int64  \n",
      " 1   Name               5145 non-null   object \n",
      " 2   Rating             5145 non-null   float64\n",
      " 3   Number of Ratings  5145 non-null   int64  \n",
      " 4   Price              5145 non-null   float64\n",
      " 5   Region             5145 non-null   object \n",
      " 6   Winery             5142 non-null   object \n",
      " 7   Wine style         4624 non-null   object \n",
      " 8   Alcohol content    5145 non-null   float64\n",
      " 9   Grapes             2977 non-null   object \n",
      " 10  Food pairings      5145 non-null   object \n",
      " 11  Bold               5145 non-null   float64\n",
      " 12  Tannin             5145 non-null   float64\n",
      " 13  Sweet              5145 non-null   float64\n",
      " 14  Acidic             5145 non-null   float64\n",
      "dtypes: float64(7), int64(2), object(6)\n",
      "memory usage: 603.1+ KB\n",
      "None\n",
      "        Unnamed: 0       Rating  Number of Ratings        Price  \\\n",
      "count  5145.000000  5145.000000        5145.000000  5145.000000   \n",
      "mean    503.271914     4.000292         601.032653    27.424618   \n",
      "std     406.492427     0.157726        2725.500208    10.645818   \n",
      "min       0.000000     3.700000          25.000000     6.500000   \n",
      "25%     164.000000     3.900000          73.000000    19.980000   \n",
      "50%     377.000000     4.000000         189.000000    25.990000   \n",
      "75%     790.000000     4.100000         483.000000    34.000000   \n",
      "max    1436.000000     4.600000      159937.000000   155.000000   \n",
      "\n",
      "       Alcohol content         Bold       Tannin        Sweet       Acidic  \n",
      "count      5145.000000  5145.000000  5145.000000  5145.000000  5145.000000  \n",
      "mean         13.794363    57.990384    46.293535    12.259602    54.096125  \n",
      "std           1.242644    19.081310    11.092394    12.306948    14.463969  \n",
      "min           5.000000     0.060000     1.400000     0.010000     7.230000  \n",
      "25%          13.500000    45.330000    46.295270     6.230000    44.700000  \n",
      "50%          13.794543    61.730000    46.295270     9.050000    53.555000  \n",
      "75%          14.000000    69.620000    48.610000    13.200000    63.550000  \n",
      "max          20.500000    85.000000    85.000000    85.000000    85.000000  \n"
     ]
    }
   ],
   "source": [
    "# Examine structure and data types\n",
    "print(wine_df.info())\n",
    "print(wine_df.describe())\n",
    "\n",
    "#  Remove duplicate \n",
    "wine_df.drop_duplicates(inplace=True)"
   ]
  },
  {
   "cell_type": "code",
   "execution_count": null,
   "id": "d93005a1-e100-42cb-aa6e-bcf9d68e079c",
   "metadata": {},
   "outputs": [],
   "source": [
    "## Handle null records"
   ]
  },
  {
   "cell_type": "code",
   "execution_count": null,
   "id": "d3829098-a608-4420-b928-a13d94561885",
   "metadata": {},
   "outputs": [],
   "source": [
    "#  Handle null records\n",
    "print(\"Null counts before removal:\")\n",
    "print(wine_df.isnull().sum())\n",
    "wine_df.dropna(inplace=True)\n",
    "print(\"Null counts after removal:\")\n",
    "print(wine_df.isnull().sum())\n"
   ]
  }
 ],
 "metadata": {
  "kernelspec": {
   "display_name": "Python 3 (ipykernel)",
   "language": "python",
   "name": "python3"
  },
  "language_info": {
   "codemirror_mode": {
    "name": "ipython",
    "version": 3
   },
   "file_extension": ".py",
   "mimetype": "text/x-python",
   "name": "python",
   "nbconvert_exporter": "python",
   "pygments_lexer": "ipython3",
   "version": "3.11.7"
  }
 },
 "nbformat": 4,
 "nbformat_minor": 5
}
