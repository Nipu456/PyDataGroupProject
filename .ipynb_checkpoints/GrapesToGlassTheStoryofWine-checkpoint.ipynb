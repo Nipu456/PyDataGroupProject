{
 "cells": [
  {
   "cell_type": "markdown",
   "id": "e985621c-6872-498b-ad7c-37411e5a8ae2",
   "metadata": {},
   "source": [
    "## Import required libraries"
   ]
  },
  {
   "cell_type": "code",
   "execution_count": 1,
   "id": "5295a52a-3d28-488f-b468-85dd00430243",
   "metadata": {},
   "outputs": [],
   "source": [
    "import pandas as pd\n",
    "import numpy as np"
   ]
  },
  {
   "cell_type": "markdown",
   "id": "1d021d26-6974-44bb-899d-cbd7dc9042ca",
   "metadata": {},
   "source": [
    "## Simulating file paths and Load all CSV files into a DataFrame list"
   ]
  },
  {
   "cell_type": "code",
   "execution_count": 2,
   "id": "070665d0-70cf-4628-9200-4395c5cbaa62",
   "metadata": {},
   "outputs": [],
   "source": [
    "\n",
    "files = [\n",
    "    \"Australia_Wine_Stats.csv\", \"Chile_Wine_Stats.csv\", \"France_Wine_Stats.csv\",\n",
    "    \"Italy_Wine_Stats.csv\", \"New Zealand_Wine_Stats.csv\", \"Portugal_Wine_Stats.csv\",\n",
    "    \"Spain_Wine_Stats.csv\", \"USA_Wine_Stats.csv\"\n",
    "]\n",
    "\n",
    "# Load all CSV files into a DataFrame\n",
    "dataframes = [pd.read_csv(file) for file in files]   \n",
    "\n",
    "#  Concatenate all data into a single DataFrame\n",
    "wine_df = pd.concat(dataframes, ignore_index=True)\n"
   ]
  },
  {
   "cell_type": "code",
   "execution_count": null,
   "id": "d645b864-b3b2-4c5e-9c80-cb0dbd131d7c",
   "metadata": {},
   "outputs": [],
   "source": []
  }
 ],
 "metadata": {
  "kernelspec": {
   "display_name": "Python 3 (ipykernel)",
   "language": "python",
   "name": "python3"
  },
  "language_info": {
   "codemirror_mode": {
    "name": "ipython",
    "version": 3
   },
   "file_extension": ".py",
   "mimetype": "text/x-python",
   "name": "python",
   "nbconvert_exporter": "python",
   "pygments_lexer": "ipython3",
   "version": "3.11.7"
  }
 },
 "nbformat": 4,
 "nbformat_minor": 5
}
