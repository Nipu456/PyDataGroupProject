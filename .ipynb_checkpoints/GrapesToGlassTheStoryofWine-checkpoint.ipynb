{
 "cells": [
  {
   "cell_type": "markdown",
   "id": "e985621c-6872-498b-ad7c-37411e5a8ae2",
   "metadata": {},
   "source": [
    "## Import required libraries"
   ]
  },
  {
   "cell_type": "code",
   "execution_count": 1,
   "id": "5295a52a-3d28-488f-b468-85dd00430243",
   "metadata": {},
   "outputs": [],
   "source": [
    "import pandas as pd\n",
    "import numpy as np"
   ]
  },
  {
   "cell_type": "markdown",
   "id": "1d021d26-6974-44bb-899d-cbd7dc9042ca",
   "metadata": {},
   "source": [
    "## Simulating file paths and Load all CSV files into a DataFrame list"
   ]
  },
  {
   "cell_type": "code",
   "execution_count": 2,
   "id": "070665d0-70cf-4628-9200-4395c5cbaa62",
   "metadata": {},
   "outputs": [],
   "source": [
    "\n",
    "files = [\n",
    "    \"Australia_Wine_Stats.csv\", \"Chile_Wine_Stats.csv\", \"France_Wine_Stats.csv\",\n",
    "    \"Italy_Wine_Stats.csv\", \"New Zealand_Wine_Stats.csv\", \"Portugal_Wine_Stats.csv\",\n",
    "    \"Spain_Wine_Stats.csv\", \"USA_Wine_Stats.csv\"\n",
    "]\n",
    "\n",
    "# Load all CSV files into a DataFrame\n",
    "dataframes = [pd.read_csv(file) for file in files]   \n",
    "\n",
    "#  Concatenate all data into a single DataFrame\n",
    "wine_df = pd.concat(dataframes, ignore_index=True)\n"
   ]
  },
  {
   "cell_type": "markdown",
   "id": "2e70b29e-a429-4ddd-a897-9f2201a8e6a8",
   "metadata": {},
   "source": [
    "## Examine structure and data types"
   ]
  },
  {
   "cell_type": "code",
   "execution_count": 3,
   "id": "0c2e484c-9ba0-4bbc-ba68-611f161e2577",
   "metadata": {},
   "outputs": [
    {
     "name": "stdout",
     "output_type": "stream",
     "text": [
      "<class 'pandas.core.frame.DataFrame'>\n",
      "RangeIndex: 5145 entries, 0 to 5144\n",
      "Data columns (total 15 columns):\n",
      " #   Column             Non-Null Count  Dtype  \n",
      "---  ------             --------------  -----  \n",
      " 0   Unnamed: 0         5145 non-null   int64  \n",
      " 1   Name               5145 non-null   object \n",
      " 2   Rating             5145 non-null   float64\n",
      " 3   Number of Ratings  5145 non-null   int64  \n",
      " 4   Price              5145 non-null   float64\n",
      " 5   Region             5145 non-null   object \n",
      " 6   Winery             5142 non-null   object \n",
      " 7   Wine style         4624 non-null   object \n",
      " 8   Alcohol content    5145 non-null   float64\n",
      " 9   Grapes             2977 non-null   object \n",
      " 10  Food pairings      5145 non-null   object \n",
      " 11  Bold               5145 non-null   float64\n",
      " 12  Tannin             5145 non-null   float64\n",
      " 13  Sweet              5145 non-null   float64\n",
      " 14  Acidic             5145 non-null   float64\n",
      "dtypes: float64(7), int64(2), object(6)\n",
      "memory usage: 603.1+ KB\n",
      "None\n",
      "        Unnamed: 0       Rating  Number of Ratings        Price  \\\n",
      "count  5145.000000  5145.000000        5145.000000  5145.000000   \n",
      "mean    503.271914     4.000292         601.032653    27.424618   \n",
      "std     406.492427     0.157726        2725.500208    10.645818   \n",
      "min       0.000000     3.700000          25.000000     6.500000   \n",
      "25%     164.000000     3.900000          73.000000    19.980000   \n",
      "50%     377.000000     4.000000         189.000000    25.990000   \n",
      "75%     790.000000     4.100000         483.000000    34.000000   \n",
      "max    1436.000000     4.600000      159937.000000   155.000000   \n",
      "\n",
      "       Alcohol content         Bold       Tannin        Sweet       Acidic  \n",
      "count      5145.000000  5145.000000  5145.000000  5145.000000  5145.000000  \n",
      "mean         13.794363    57.990384    46.293535    12.259602    54.096125  \n",
      "std           1.242644    19.081310    11.092394    12.306948    14.463969  \n",
      "min           5.000000     0.060000     1.400000     0.010000     7.230000  \n",
      "25%          13.500000    45.330000    46.295270     6.230000    44.700000  \n",
      "50%          13.794543    61.730000    46.295270     9.050000    53.555000  \n",
      "75%          14.000000    69.620000    48.610000    13.200000    63.550000  \n",
      "max          20.500000    85.000000    85.000000    85.000000    85.000000  \n"
     ]
    }
   ],
   "source": [
    "# Examine structure and data types\n",
    "print(wine_df.info())\n",
    "print(wine_df.describe())\n",
    "\n",
    "#  Remove duplicate \n",
    "wine_df.drop_duplicates(inplace=True)"
   ]
  },
  {
   "cell_type": "markdown",
   "id": "fc8c4989-b097-4f21-9382-08e04d0735fc",
   "metadata": {},
   "source": [
    "## Handle null records"
   ]
  },
  {
   "cell_type": "code",
   "execution_count": 4,
   "id": "d3829098-a608-4420-b928-a13d94561885",
   "metadata": {},
   "outputs": [
    {
     "name": "stdout",
     "output_type": "stream",
     "text": [
      "Null counts before removal:\n",
      "Unnamed: 0              0\n",
      "Name                    0\n",
      "Rating                  0\n",
      "Number of Ratings       0\n",
      "Price                   0\n",
      "Region                  0\n",
      "Winery                  3\n",
      "Wine style            521\n",
      "Alcohol content         0\n",
      "Grapes               2168\n",
      "Food pairings           0\n",
      "Bold                    0\n",
      "Tannin                  0\n",
      "Sweet                   0\n",
      "Acidic                  0\n",
      "dtype: int64\n",
      "Null counts after removal:\n",
      "Unnamed: 0           0\n",
      "Name                 0\n",
      "Rating               0\n",
      "Number of Ratings    0\n",
      "Price                0\n",
      "Region               0\n",
      "Winery               0\n",
      "Wine style           0\n",
      "Alcohol content      0\n",
      "Grapes               0\n",
      "Food pairings        0\n",
      "Bold                 0\n",
      "Tannin               0\n",
      "Sweet                0\n",
      "Acidic               0\n",
      "dtype: int64\n"
     ]
    }
   ],
   "source": [
    "#  Handle null records\n",
    "print(\"Null counts before removal:\")\n",
    "print(wine_df.isnull().sum())\n",
    "wine_df.dropna(inplace=True)\n",
    "print(\"Null counts after removal:\")\n",
    "print(wine_df.isnull().sum())\n"
   ]
  },
  {
   "cell_type": "markdown",
   "id": "a7aeffcb-5d3a-4d54-bc1d-bf423724cf61",
   "metadata": {},
   "source": [
    "## Outlier handling"
   ]
  },
  {
   "cell_type": "code",
   "execution_count": 5,
   "id": "0c736932-c746-463d-87d0-f088edeee09f",
   "metadata": {},
   "outputs": [],
   "source": [
    "#  numerical columns\n",
    "numerical_cols = ['Rating', 'Price', 'Alcohol content', 'Bold', 'Tannin', 'Sweet', 'Acidic']\n",
    "for col in numerical_cols:\n",
    "    Q1 = wine_df[col].quantile(0.25)\n",
    "    Q3 = wine_df[col].quantile(0.75)\n",
    "    IQR = Q3 - Q1\n",
    "    lower_bound = Q1 - 1.5 * IQR\n",
    "    upper_bound = Q3 + 1.5 * IQR\n",
    "    wine_df = wine_df[(wine_df[col] >= lower_bound) & (wine_df[col] <= upper_bound)]\n",
    "\n",
    "#  `Country` and `Country_region` from `Region`\n",
    "wine_df['Country'] = wine_df['Region'].apply(lambda x: x.split('/')[0])\n",
    "wine_df['Country_region'] = wine_df['Region'].apply(lambda x: '/'.join(x.split('/')[1:]))"
   ]
  },
  {
   "cell_type": "markdown",
   "id": "ae704919-d6d0-422d-8008-881d9076ddbc",
   "metadata": {},
   "source": [
    "## Transform"
   ]
  },
  {
   "cell_type": "code",
   "execution_count": 6,
   "id": "79f0e070-5198-4c5a-970c-9ffb3f40255a",
   "metadata": {},
   "outputs": [],
   "source": [
    "#  Transform \n",
    "food_items = [\n",
    "    'Beef', 'Pasta', 'Lamb', 'Poultry', 'Cheese', 'Fish', 'Seafood',\n",
    "    'Vegetables', 'Salad', 'Pork', 'Sushi', 'Pizza', 'Fruits', 'Spicy',\n",
    "    'Dessert', 'Barbecue', 'Snacks', 'Rice', 'Burgers', 'Egg', 'Bread'\n",
    "]\n",
    "for food in food_items:\n",
    "    wine_df[food] = wine_df['Food pairings'].apply(lambda x: food in x if isinstance(x, list) else False)\n",
    "\n",
    "#  Column Removal\n",
    "columns_to_drop = ['Winery']  # Example\n",
    "wine_df.drop(columns=columns_to_drop, inplace=True)"
   ]
  },
  {
   "cell_type": "code",
   "execution_count": null,
   "id": "5fb70709-80a7-4e0c-9041-b7670de120a7",
   "metadata": {},
   "outputs": [],
   "source": []
  }
 ],
 "metadata": {
  "kernelspec": {
   "display_name": "Python 3 (ipykernel)",
   "language": "python",
   "name": "python3"
  },
  "language_info": {
   "codemirror_mode": {
    "name": "ipython",
    "version": 3
   },
   "file_extension": ".py",
   "mimetype": "text/x-python",
   "name": "python",
   "nbconvert_exporter": "python",
   "pygments_lexer": "ipython3",
   "version": "3.11.7"
  }
 },
 "nbformat": 4,
 "nbformat_minor": 5
}
